{
 "cells": [
  {
   "cell_type": "markdown",
   "metadata": {},
   "source": [
    "_Laura Martínez González De Aledo_"
   ]
  },
  {
   "cell_type": "markdown",
   "metadata": {},
   "source": [
    "#### Importación de librerías de transformers de huggingface"
   ]
  },
  {
   "cell_type": "code",
   "execution_count": 1,
   "metadata": {
    "scrolled": true
   },
   "outputs": [
    {
     "name": "stderr",
     "output_type": "stream",
     "text": [
      "All model checkpoint layers were used when initializing TFDistilBertForQuestionAnswering.\n",
      "\n",
      "All the layers of TFDistilBertForQuestionAnswering were initialized from the model checkpoint at distilbert-base-cased-distilled-squad.\n",
      "If your task is similar to the task the model of the checkpoint was trained on, you can already use TFDistilBertForQuestionAnswering for predictions without further training.\n"
     ]
    }
   ],
   "source": [
    "from transformers import pipeline\n",
    "question_answerer = pipeline ('question-answering')"
   ]
  },
  {
   "cell_type": "markdown",
   "metadata": {},
   "source": [
    "#### Utilice el notebook de respuestas para preguntas sobre el siguiente texto:"
   ]
  },
  {
   "cell_type": "markdown",
   "metadata": {},
   "source": [
    "* ¿Quién fue el arquitecto del Monasterio?"
   ]
  },
  {
   "cell_type": "code",
   "execution_count": 2,
   "metadata": {},
   "outputs": [
    {
     "data": {
      "text/plain": [
       "{'score': 0.1589859127998352, 'start': 530, 'end': 538, 'answer': 'Conocido'}"
      ]
     },
     "execution_count": 2,
     "metadata": {},
     "output_type": "execute_result"
    }
   ],
   "source": [
    "question_answerer({'context' : 'El palacio fue residencia de la familia real española, la basílica es lugar de sepultura de los reyes de España y el monasterio, fundado por monjes de la Orden de San Jerónimo, está ocupado actualmente por frailes de la Orden de San Agustín. Es una de las más singulares arquitecturas renacentistas de España y de Europa. Situado en San Lorenzo de El Escorial, ocupa una superficie de 33.327m², sobre la ladera meridional del monte Abantos, a 1028m de altitud, en la sierra de Guadarrama. Está gestionado por Patrimonio Nacional. Conocido también como Monasterio de San Lorenzo El Real, o, sencillamente, El Escorial, fue ideado en la segunda mitad del siglo XVI por el rey Felipe II y su arquitecto Juan Bautista de Toledo, aunque posteriormente intervinieron Juan de Herrera, Juan de Minjares, Giovanni Battista Castello El Bergamasco y Francisco de Mora. El rey concibió un gran complejo multifuncional, monacal y palaciego que, plasmado por Juan Bautista de Toledo según el paradigma de la Traza Universal, dio origen alestilo herreriano.',\n",
    "                'question' : '¿Quién fue el arquitecto del Monasterio?'})"
   ]
  },
  {
   "cell_type": "markdown",
   "metadata": {},
   "source": [
    "* ¿Quién fundó el Monasterio?"
   ]
  },
  {
   "cell_type": "code",
   "execution_count": 3,
   "metadata": {},
   "outputs": [
    {
     "data": {
      "text/plain": [
       "{'score': 0.10456284880638123, 'start': 530, 'end': 538, 'answer': 'Conocido'}"
      ]
     },
     "execution_count": 3,
     "metadata": {},
     "output_type": "execute_result"
    }
   ],
   "source": [
    "question_answerer({'context' : 'El palacio fue residencia de la familia real española, la basílica es lugar de sepultura de los reyes de España y el monasterio, fundado por monjes de la Orden de San Jerónimo, está ocupado actualmente por frailes de la Orden de San Agustín. Es una de las más singulares arquitecturas renacentistas de España y de Europa. Situado en San Lorenzo de El Escorial, ocupa una superficie de 33.327m², sobre la ladera meridional del monte Abantos, a 1028m de altitud, en la sierra de Guadarrama. Está gestionado por Patrimonio Nacional. Conocido también como Monasterio de San Lorenzo El Real, o, sencillamente, El Escorial, fue ideado en la segunda mitad del siglo XVI por el rey Felipe II y su arquitecto Juan Bautista de Toledo, aunque posteriormente intervinieron Juan de Herrera, Juan de Minjares, Giovanni Battista Castello El Bergamasco y Francisco de Mora. El rey concibió un gran complejo multifuncional, monacal y palaciego que, plasmado por Juan Bautista de Toledo según el paradigma de la Traza Universal, dio origen alestilo herreriano.',\n",
    "                'question' : '¿Quién fundó el Monasterio?'})"
   ]
  },
  {
   "cell_type": "markdown",
   "metadata": {},
   "source": [
    "* ¿A qué altura está?"
   ]
  },
  {
   "cell_type": "code",
   "execution_count": 4,
   "metadata": {},
   "outputs": [
    {
     "data": {
      "text/plain": [
       "{'score': 0.009517396800220013,\n",
       " 'start': 177,\n",
       " 'end': 189,\n",
       " 'answer': 'está ocupado'}"
      ]
     },
     "execution_count": 4,
     "metadata": {},
     "output_type": "execute_result"
    }
   ],
   "source": [
    "question_answerer({'context' : 'El palacio fue residencia de la familia real española, la basílica es lugar de sepultura de los reyes de España y el monasterio, fundado por monjes de la Orden de San Jerónimo, está ocupado actualmente por frailes de la Orden de San Agustín. Es una de las más singulares arquitecturas renacentistas de España y de Europa. Situado en San Lorenzo de El Escorial, ocupa una superficie de 33.327m², sobre la ladera meridional del monte Abantos, a 1028m de altitud, en la sierra de Guadarrama. Está gestionado por Patrimonio Nacional. Conocido también como Monasterio de San Lorenzo El Real, o, sencillamente, El Escorial, fue ideado en la segunda mitad del siglo XVI por el rey Felipe II y su arquitecto Juan Bautista de Toledo, aunque posteriormente intervinieron Juan de Herrera, Juan de Minjares, Giovanni Battista Castello El Bergamasco y Francisco de Mora. El rey concibió un gran complejo multifuncional, monacal y palaciego que, plasmado por Juan Bautista de Toledo según el paradigma de la Traza Universal, dio origen alestilo herreriano.',\n",
    "                'question' : '¿A qué altura está?'})"
   ]
  },
  {
   "cell_type": "markdown",
   "metadata": {},
   "source": [
    "* Who was the architect of the Monastery?"
   ]
  },
  {
   "cell_type": "code",
   "execution_count": 5,
   "metadata": {},
   "outputs": [
    {
     "data": {
      "text/plain": [
       "{'score': 0.021588651463389397,\n",
       " 'start': 796,\n",
       " 'end': 856,\n",
       " 'answer': 'Giovanni Battista Castello El Bergamasco y Francisco de Mora'}"
      ]
     },
     "execution_count": 5,
     "metadata": {},
     "output_type": "execute_result"
    }
   ],
   "source": [
    "question_answerer({'context' : 'El palacio fue residencia de la familia real española, la basílica es lugar de sepultura de los reyes de España y el monasterio, fundado por monjes de la Orden de San Jerónimo, está ocupado actualmente por frailes de la Orden de San Agustín. Es una de las más singulares arquitecturas renacentistas de España y de Europa. Situado en San Lorenzo de El Escorial, ocupa una superficie de 33.327m², sobre la ladera meridional del monte Abantos, a 1028m de altitud, en la sierra de Guadarrama. Está gestionado por Patrimonio Nacional. Conocido también como Monasterio de San Lorenzo El Real, o, sencillamente, El Escorial, fue ideado en la segunda mitad del siglo XVI por el rey Felipe II y su arquitecto Juan Bautista de Toledo, aunque posteriormente intervinieron Juan de Herrera, Juan de Minjares, Giovanni Battista Castello El Bergamasco y Francisco de Mora. El rey concibió un gran complejo multifuncional, monacal y palaciego que, plasmado por Juan Bautista de Toledo según el paradigma de la Traza Universal, dio origen alestilo herreriano.',\n",
    "                'question' : 'Who was the architect of the Monastery?'})"
   ]
  },
  {
   "cell_type": "markdown",
   "metadata": {},
   "source": [
    "#### Comente los resultados obtenidos. Haga referencia a las preguntas en más de un idioma y a la utilización de sinónimos en la pregunta y la respuesta"
   ]
  },
  {
   "cell_type": "markdown",
   "metadata": {},
   "source": [
    "Observando los resultados obtenidos, considero que da una respuesta coherente, que no correcta, en ingles. Debido a que el arquitecto es Juan Bautista de Toledo."
   ]
  },
  {
   "cell_type": "markdown",
   "metadata": {},
   "source": [
    "   "
   ]
  }
 ],
 "metadata": {
  "celltoolbar": "Raw Cell Format",
  "kernelspec": {
   "display_name": "Python 3 (ipykernel)",
   "language": "python",
   "name": "python3"
  },
  "language_info": {
   "codemirror_mode": {
    "name": "ipython",
    "version": 3
   },
   "file_extension": ".py",
   "mimetype": "text/x-python",
   "name": "python",
   "nbconvert_exporter": "python",
   "pygments_lexer": "ipython3",
   "version": "3.10.0"
  }
 },
 "nbformat": 4,
 "nbformat_minor": 4
}
